{
 "cells": [
  {
   "cell_type": "code",
   "execution_count": 2,
   "id": "0b7ca93e",
   "metadata": {},
   "outputs": [
    {
     "name": "stdout",
     "output_type": "stream",
     "text": [
      "5.116\n"
     ]
    }
   ],
   "source": [
    "import requests\n",
    "import json\n",
    "\n",
    "link = 'https://economia.awesomeapi.com.br/last/USD-BRL,EUR-BRL,BTC-BRL'\n",
    "cotacoes = requests.get(link)\n",
    "cotacoes_dic = cotacoes.json()\n",
    "cotacao_dolar = cotacoes_dic['USDBRL']['bid']\n",
    "print(cotacao_dolar)"
   ]
  },
  {
   "cell_type": "code",
   "execution_count": 6,
   "id": "5af78df2",
   "metadata": {},
   "outputs": [
    {
     "name": "stdout",
     "output_type": "stream",
     "text": [
      "104.496\n",
      "BTC\n"
     ]
    }
   ],
   "source": [
    "\n",
    "link2 = 'https://economia.awesomeapi.com.br/last/USD-BRL,EUR-BRL,BTC-BRL'\n",
    "requisicao = requests.get(link2)\n",
    "cotacoes_dicionario = requisicao.json()\n",
    "cotacao_bitcoin = cotacoes_dicionario['BTCBRL']['bid']\n",
    "codigo = cotacoes_dicionario['BTCBRL']['code']\n",
    "\n",
    "print(cotacao_bitcoin)\n",
    "print(codigo)"
   ]
  },
  {
   "cell_type": "code",
   "execution_count": null,
   "id": "20344200",
   "metadata": {},
   "outputs": [],
   "source": []
  }
 ],
 "metadata": {
  "kernelspec": {
   "display_name": "Python 3 (ipykernel)",
   "language": "python",
   "name": "python3"
  },
  "language_info": {
   "codemirror_mode": {
    "name": "ipython",
    "version": 3
   },
   "file_extension": ".py",
   "mimetype": "text/x-python",
   "name": "python",
   "nbconvert_exporter": "python",
   "pygments_lexer": "ipython3",
   "version": "3.9.12"
  }
 },
 "nbformat": 4,
 "nbformat_minor": 5
}
